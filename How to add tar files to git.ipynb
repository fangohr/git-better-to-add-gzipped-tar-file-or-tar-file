{
 "cells": [
  {
   "cell_type": "markdown",
   "metadata": {},
   "source": [
    "# Can git compress 'similar' (binary) files in repositories?\n",
    "\n",
    "## Preparations"
   ]
  },
  {
   "cell_type": "code",
   "execution_count": 1,
   "metadata": {
    "collapsed": true
   },
   "outputs": [],
   "source": [
    "py348 = \"https://www.python.org/ftp/python/3.4.8/Python-3.4.8.tgz\"\n",
    "py348rc1 = \"https://www.python.org/ftp/python/3.4.8/Python-3.4.8rc1.tgz\""
   ]
  },
  {
   "cell_type": "code",
   "execution_count": 2,
   "metadata": {},
   "outputs": [
    {
     "name": "stdout",
     "output_type": "stream",
     "text": [
      "--2018-05-31 14:54:21--  https://www.python.org/ftp/python/3.4.8/Python-3.4.8.tgz\n",
      "Resolving www.python.org... 151.101.112.223, 2a04:4e42:1b::223\n",
      "Connecting to www.python.org|151.101.112.223|:443... connected.\n",
      "HTTP request sent, awaiting response... 200 OK\n",
      "Length: 19663810 (19M) [application/octet-stream]\n",
      "Saving to: ‘Python-3.4.8.tgz’\n",
      "\n",
      "Python-3.4.8.tgz    100%[===================>]  18.75M  13.1MB/s    in 1.4s    \n",
      "\n",
      "2018-05-31 14:54:23 (13.1 MB/s) - ‘Python-3.4.8.tgz’ saved [19663810/19663810]\n",
      "\n"
     ]
    }
   ],
   "source": [
    "!wget $py348"
   ]
  },
  {
   "cell_type": "code",
   "execution_count": 3,
   "metadata": {},
   "outputs": [
    {
     "name": "stdout",
     "output_type": "stream",
     "text": [
      "--2018-05-31 14:54:23--  https://www.python.org/ftp/python/3.4.8/Python-3.4.8rc1.tgz\n",
      "Resolving www.python.org... 151.101.112.223, 2a04:4e42:1b::223\n",
      "Connecting to www.python.org|151.101.112.223|:443... connected.\n",
      "HTTP request sent, awaiting response... 200 OK\n",
      "Length: 19694450 (19M) [application/octet-stream]\n",
      "Saving to: ‘Python-3.4.8rc1.tgz’\n",
      "\n",
      "Python-3.4.8rc1.tgz 100%[===================>]  18.78M  15.5MB/s    in 1.2s    \n",
      "\n",
      "2018-05-31 14:54:24 (15.5 MB/s) - ‘Python-3.4.8rc1.tgz’ saved [19694450/19694450]\n",
      "\n"
     ]
    }
   ],
   "source": [
    "!wget $py348rc1"
   ]
  },
  {
   "cell_type": "code",
   "execution_count": 4,
   "metadata": {
    "collapsed": true
   },
   "outputs": [],
   "source": [
    "# strip off URL path\n",
    "import os.path\n",
    "py348 = os.path.split(py348)[1]\n",
    "py348rc1 = os.path.split(py348rc1)[1]\n",
    "\n",
    "# use letters A and B for convenience, and strip off file extension (.tgz)\n",
    "A = py348[:-4]\n",
    "B = py348rc1[:-4]\n"
   ]
  },
  {
   "cell_type": "markdown",
   "metadata": {},
   "source": [
    "# Experiment 1: Adding gzipped tar files to git"
   ]
  },
  {
   "cell_type": "code",
   "execution_count": 5,
   "metadata": {},
   "outputs": [
    {
     "name": "stdout",
     "output_type": "stream",
     "text": [
      "Initialized empty Git repository in /Users/fangohr/git/git-better-to-add-gzipped-tar-file-or-tar-file/.git/\n",
      "[master (root-commit) 05dcfb2] file A\n",
      " 1 file changed, 0 insertions(+), 0 deletions(-)\n",
      " create mode 100644 Python-3.4.8.tgz\n",
      " 19M\t.git\n"
     ]
    }
   ],
   "source": [
    "Atgz = A + '.tgz'\n",
    "!rm -rf .git # clean start\n",
    "!git init .\n",
    "!git add $Atgz\n",
    "!git commit -m \"file A\"\n",
    "!du -hs .git"
   ]
  },
  {
   "cell_type": "markdown",
   "metadata": {},
   "source": [
    "Can we optimise disk usage further? (No:)"
   ]
  },
  {
   "cell_type": "code",
   "execution_count": 6,
   "metadata": {},
   "outputs": [
    {
     "name": "stdout",
     "output_type": "stream",
     "text": [
      "Counting objects: 3, done.\n",
      "Delta compression using up to 8 threads.\n",
      "Compressing objects: 100% (2/2), done.\n",
      "Writing objects: 100% (3/3), done.\n",
      "Total 3 (delta 0), reused 0 (delta 0)\n",
      " 19M\t.git\n"
     ]
    }
   ],
   "source": [
    "# Can we optimise git's storage?\n",
    "!git gc --aggressive\n",
    "!du -hs .git"
   ]
  },
  {
   "cell_type": "code",
   "execution_count": 7,
   "metadata": {},
   "outputs": [
    {
     "name": "stdout",
     "output_type": "stream",
     "text": [
      "[master df10613] file B\n",
      " 1 file changed, 0 insertions(+), 0 deletions(-)\n",
      " create mode 100644 Python-3.4.8rc1.tgz\n",
      " 38M\t.git\n"
     ]
    }
   ],
   "source": [
    "Btgz = B + '.tgz'\n",
    "!git add $Btgz\n",
    "!git commit -m \"file B\"\n",
    "!du -hs .git"
   ]
  },
  {
   "cell_type": "code",
   "execution_count": 8,
   "metadata": {},
   "outputs": [
    {
     "name": "stdout",
     "output_type": "stream",
     "text": [
      "-rw-r--r--@ 1 fangohr  staff    19M  5 Feb 00:53 Python-3.4.8.tgz\r\n",
      "-rw-r--r--@ 1 fangohr  staff    19M 23 Jan 13:51 Python-3.4.8rc1.tgz\r\n"
     ]
    }
   ],
   "source": [
    "!ls -lh Python*tgz"
   ]
  },
  {
   "cell_type": "code",
   "execution_count": 9,
   "metadata": {},
   "outputs": [
    {
     "name": "stdout",
     "output_type": "stream",
     "text": [
      "Counting objects: 6, done.\n",
      "Delta compression using up to 8 threads.\n",
      "Compressing objects: 100% (5/5), done.\n",
      "Writing objects: 100% (6/6), done.\n",
      "Total 6 (delta 0), reused 3 (delta 0)\n",
      " 38M\t.git\n"
     ]
    }
   ],
   "source": [
    "# Can we optimise git's storage?\n",
    "!git gc --aggressive\n",
    "!du -hs .git"
   ]
  },
  {
   "cell_type": "markdown",
   "metadata": {},
   "source": [
    "Conclusion 1: \n",
    "- Adding compressed files to git -> git cannot compress further\n",
    "- Adding two similar (but already compressed files) -> git cannot exploit similarity "
   ]
  },
  {
   "cell_type": "markdown",
   "metadata": {},
   "source": [
    "# Experiment 2: Adding (uncompressed) tar files to git"
   ]
  },
  {
   "cell_type": "code",
   "execution_count": 10,
   "metadata": {},
   "outputs": [
    {
     "name": "stdout",
     "output_type": "stream",
     "text": [
      "-rw-r--r--  1 fangohr  staff    72M  5 Feb 00:53 Python-3.4.8.tar\r\n",
      "-rw-r--r--  1 fangohr  staff    72M 23 Jan 13:51 Python-3.4.8rc1.tar\r\n"
     ]
    }
   ],
   "source": [
    "!rm -f *.tar            # tidy up\n",
    "!gunzip $Atgz $Btgz\n",
    "!ls -lh Python*tar"
   ]
  },
  {
   "cell_type": "code",
   "execution_count": 11,
   "metadata": {},
   "outputs": [
    {
     "name": "stdout",
     "output_type": "stream",
     "text": [
      "Initialized empty Git repository in /Users/fangohr/git/git-better-to-add-gzipped-tar-file-or-tar-file/.git/\n",
      "[master (root-commit) 7ef509e] file A\n",
      " 1 file changed, 0 insertions(+), 0 deletions(-)\n",
      " create mode 100644 Python-3.4.8.tar\n",
      " 22M\t.git\n"
     ]
    }
   ],
   "source": [
    "Atar = A + \".tar\"\n",
    "!rm -rf .git # clean start\n",
    "!git init .\n",
    "!git add $Atar\n",
    "!git commit -m \"file A\"\n",
    "!du -hs .git"
   ]
  },
  {
   "cell_type": "code",
   "execution_count": 12,
   "metadata": {},
   "outputs": [
    {
     "name": "stdout",
     "output_type": "stream",
     "text": [
      "Counting objects: 3, done.\n",
      "Delta compression using up to 8 threads.\n",
      "Compressing objects: 100% (2/2), done.\n",
      "Writing objects: 100% (3/3), done.\n",
      "Total 3 (delta 0), reused 0 (delta 0)\n",
      " 19M\t.git\n"
     ]
    }
   ],
   "source": [
    "# Can we optimise git's storage?\n",
    "!git gc --aggressive\n",
    "!du -hs .git"
   ]
  },
  {
   "cell_type": "markdown",
   "metadata": {},
   "source": [
    "Yes, now git has achieved (approx) the same compression as gzip could do on the tarball."
   ]
  },
  {
   "cell_type": "code",
   "execution_count": 13,
   "metadata": {},
   "outputs": [
    {
     "name": "stdout",
     "output_type": "stream",
     "text": [
      "[master 1a65e62] file B\n",
      " 1 file changed, 0 insertions(+), 0 deletions(-)\n",
      " create mode 100644 Python-3.4.8rc1.tar\n",
      " 41M\t.git\n"
     ]
    }
   ],
   "source": [
    "Btar = B + \".tar\"\n",
    "!git add $Btar\n",
    "!git commit -m \"file B\"\n",
    "!du -hs .git"
   ]
  },
  {
   "cell_type": "code",
   "execution_count": 14,
   "metadata": {},
   "outputs": [
    {
     "name": "stdout",
     "output_type": "stream",
     "text": [
      "\u001b[33mcommit 1a65e6228b2e5cc0e34d3640cfd3e36c9086c8d6\u001b[m\u001b[33m (\u001b[m\u001b[1;36mHEAD -> \u001b[m\u001b[1;32mmaster\u001b[m\u001b[33m)\u001b[m\n",
      "Author: Hans Fangohr <hans.fangohr@xfel.eu>\n",
      "Date:   Thu May 31 14:54:35 2018 +0200\n",
      "\n",
      "    file B\n",
      "\n",
      " Python-3.4.8rc1.tar | Bin \u001b[31m0\u001b[m -> \u001b[32m75673600\u001b[m bytes\n",
      " 1 file changed, 0 insertions(+), 0 deletions(-)\n",
      "\n",
      "\u001b[33mcommit 7ef509e1c5cfeb1c73922d64ec719d7d423801cb\u001b[m\n",
      "Author: Hans Fangohr <hans.fangohr@xfel.eu>\n",
      "Date:   Thu May 31 14:54:31 2018 +0200\n",
      "\n",
      "    file A\n",
      "\n",
      " Python-3.4.8.tar | Bin \u001b[31m0\u001b[m -> \u001b[32m75673600\u001b[m bytes\n",
      " 1 file changed, 0 insertions(+), 0 deletions(-)\n"
     ]
    }
   ],
   "source": [
    "!git log --stat"
   ]
  },
  {
   "cell_type": "code",
   "execution_count": 15,
   "metadata": {},
   "outputs": [
    {
     "name": "stdout",
     "output_type": "stream",
     "text": [
      "Counting objects: 6, done.\n",
      "Delta compression using up to 8 threads.\n",
      "Compressing objects: 100% (5/5), done.\n",
      "Writing objects: 100% (6/6), done.\n",
      "Total 6 (delta 1), reused 2 (delta 0)\n",
      " 19M\t.git\n"
     ]
    }
   ],
   "source": [
    "# Can we optimise git's storage?\n",
    "!git gc --aggressive\n",
    "!du -hs .git"
   ]
  },
  {
   "cell_type": "markdown",
   "metadata": {},
   "source": [
    "Conclusion 2: Adding uncompressed files to git:\n",
    "\n",
    "- each file is compressed (although not efficiently as original gzip: 22MB instead of 19MB)\n",
    "- no apparent benefit in exploiting similarity of the two files\n",
    "- *until* 'git gc' is run; then very good compression of the two 'similar' files A and B."
   ]
  },
  {
   "cell_type": "markdown",
   "metadata": {},
   "source": [
    "# Conclusion\n",
    "\n",
    "- Adding the two similar gzipped tar files to a git repository results in a repository size (i.e. size of ``.git`` of 38MB). \n",
    "\n",
    "- Adding the files as tar files, results in a repository size of 44MB. Once ``git gc`` is executed, the repository size shrinks to 19MB.\n",
    "\n",
    "So based on this, we should add tar files, not zipped archives.\n",
    "\n",
    "## Acknowledgements\n",
    "\n",
    "Thanks to Martin Teichmann who taught me about ``git gc`` and pointed to this study: https://gist.github.com/matthewmccullough/2695758\n",
    "\n"
   ]
  }
 ],
 "metadata": {
  "kernelspec": {
   "display_name": "Python 3",
   "language": "python",
   "name": "python3"
  },
  "language_info": {
   "codemirror_mode": {
    "name": "ipython",
    "version": 3
   },
   "file_extension": ".py",
   "mimetype": "text/x-python",
   "name": "python",
   "nbconvert_exporter": "python",
   "pygments_lexer": "ipython3",
   "version": "3.6.1"
  }
 },
 "nbformat": 4,
 "nbformat_minor": 2
}
