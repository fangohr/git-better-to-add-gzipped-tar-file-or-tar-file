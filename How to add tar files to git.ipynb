{
 "cells": [
  {
   "cell_type": "code",
   "execution_count": 1,
   "metadata": {
    "collapsed": true
   },
   "outputs": [],
   "source": [
    "py348 = \"https://www.python.org/ftp/python/3.4.8/Python-3.4.8.tgz\"\n",
    "py348rc1 = \"https://www.python.org/ftp/python/3.4.8/Python-3.4.8rc1.tgz\""
   ]
  },
  {
   "cell_type": "code",
   "execution_count": 2,
   "metadata": {},
   "outputs": [
    {
     "name": "stdout",
     "output_type": "stream",
     "text": [
      "--2018-02-13 15:18:17--  https://www.python.org/ftp/python/3.4.8/Python-3.4.8.tgz\n",
      "Resolving www.python.org... 151.101.112.223, 2a04:4e42:1b::223\n",
      "Connecting to www.python.org|151.101.112.223|:443... connected.\n",
      "HTTP request sent, awaiting response... 200 OK\n",
      "Length: 19663810 (19M) [application/octet-stream]\n",
      "Saving to: ‘Python-3.4.8.tgz’\n",
      "\n",
      "Python-3.4.8.tgz    100%[===================>]  18.75M  1.09MB/s    in 15s     \n",
      "\n",
      "2018-02-13 15:18:32 (1.24 MB/s) - ‘Python-3.4.8.tgz’ saved [19663810/19663810]\n",
      "\n"
     ]
    }
   ],
   "source": [
    "!wget $py348"
   ]
  },
  {
   "cell_type": "code",
   "execution_count": 3,
   "metadata": {},
   "outputs": [
    {
     "name": "stdout",
     "output_type": "stream",
     "text": [
      "--2018-02-13 15:18:32--  https://www.python.org/ftp/python/3.4.8/Python-3.4.8rc1.tgz\n",
      "Resolving www.python.org... 151.101.112.223, 2a04:4e42:1b::223\n",
      "Connecting to www.python.org|151.101.112.223|:443... connected.\n",
      "HTTP request sent, awaiting response... 200 OK\n",
      "Length: 19694450 (19M) [application/octet-stream]\n",
      "Saving to: ‘Python-3.4.8rc1.tgz’\n",
      "\n",
      "Python-3.4.8rc1.tgz 100%[===================>]  18.78M  1.70MB/s    in 11s     \n",
      "\n",
      "2018-02-13 15:18:44 (1.67 MB/s) - ‘Python-3.4.8rc1.tgz’ saved [19694450/19694450]\n",
      "\n"
     ]
    }
   ],
   "source": [
    "!wget $py348rc1"
   ]
  },
  {
   "cell_type": "code",
   "execution_count": 4,
   "metadata": {},
   "outputs": [],
   "source": [
    "# strip off URL path\n",
    "import os.path\n",
    "py348 = os.path.split(py348)[1]\n",
    "py348rc1 = os.path.split(py348rc1)[1]\n",
    "\n",
    "# use letters A and B for convenience, and strip off file extension (.tgz)\n",
    "A = py348[:-4]\n",
    "B = py348rc1[:-4]\n"
   ]
  },
  {
   "cell_type": "markdown",
   "metadata": {},
   "source": [
    "# Adding gzipped tar files to git"
   ]
  },
  {
   "cell_type": "code",
   "execution_count": 5,
   "metadata": {},
   "outputs": [
    {
     "name": "stdout",
     "output_type": "stream",
     "text": [
      "Initialized empty Git repository in /Users/fangohr/Desktop/targit/.git/\n",
      "[master (root-commit) 47e0bb8] file A\n",
      " 1 file changed, 0 insertions(+), 0 deletions(-)\n",
      " create mode 100644 Python-3.4.8.tgz\n",
      " 19M\t.git\n"
     ]
    }
   ],
   "source": [
    "Atgz = A + '.tgz'\n",
    "!rm -rf .git # clean start\n",
    "!git init .\n",
    "!git add $Atgz\n",
    "!git commit -m \"file A\"\n",
    "!du -hs .git"
   ]
  },
  {
   "cell_type": "code",
   "execution_count": 6,
   "metadata": {},
   "outputs": [
    {
     "name": "stdout",
     "output_type": "stream",
     "text": [
      "[master c9889d0] file B\n",
      " 1 file changed, 0 insertions(+), 0 deletions(-)\n",
      " create mode 100644 Python-3.4.8rc1.tgz\n",
      " 38M\t.git\n"
     ]
    }
   ],
   "source": [
    "Btgz = B + '.tgz'\n",
    "!git add $Btgz\n",
    "!git commit -m \"file B\"\n",
    "!du -hs .git"
   ]
  },
  {
   "cell_type": "code",
   "execution_count": 7,
   "metadata": {},
   "outputs": [
    {
     "name": "stdout",
     "output_type": "stream",
     "text": [
      "-rw-r--r--@ 1 fangohr  staff    19M  5 Feb 00:53 Python-3.4.8.tgz\r\n",
      "-rw-r--r--@ 1 fangohr  staff    19M 23 Jan 13:51 Python-3.4.8rc1.tgz\r\n"
     ]
    }
   ],
   "source": [
    "!ls -lh Python*tgz"
   ]
  },
  {
   "cell_type": "markdown",
   "metadata": {},
   "source": [
    "Conclusion 1: Adding compressed files to git -> git cannot compress further, and doesn't noting 'small changes' in file."
   ]
  },
  {
   "cell_type": "markdown",
   "metadata": {},
   "source": [
    "# Adding (uncompressed) tar files to git"
   ]
  },
  {
   "cell_type": "code",
   "execution_count": 8,
   "metadata": {},
   "outputs": [
    {
     "name": "stdout",
     "output_type": "stream",
     "text": [
      "-rw-r--r--  1 fangohr  staff    72M  5 Feb 00:53 Python-3.4.8.tar\r\n",
      "-rw-r--r--  1 fangohr  staff    72M 23 Jan 13:51 Python-3.4.8rc1.tar\r\n"
     ]
    }
   ],
   "source": [
    "!rm *.tar            # tidy up\n",
    "!gunzip $Atgz $Btgz\n",
    "!ls -lh Python*tar"
   ]
  },
  {
   "cell_type": "code",
   "execution_count": 9,
   "metadata": {},
   "outputs": [
    {
     "name": "stdout",
     "output_type": "stream",
     "text": [
      "Initialized empty Git repository in /Users/fangohr/Desktop/targit/.git/\n",
      "[master (root-commit) 72e5788] file A\n",
      " 1 file changed, 0 insertions(+), 0 deletions(-)\n",
      " create mode 100644 Python-3.4.8.tar\n",
      " 22M\t.git\n"
     ]
    }
   ],
   "source": [
    "Atar = A + \".tar\"\n",
    "!rm -rf .git # clean start\n",
    "!git init .\n",
    "!git add $Atar\n",
    "!git commit -m \"file A\"\n",
    "!du -hs .git"
   ]
  },
  {
   "cell_type": "code",
   "execution_count": 10,
   "metadata": {},
   "outputs": [
    {
     "name": "stdout",
     "output_type": "stream",
     "text": [
      "[master 590ec6c] file B\n",
      " 1 file changed, 0 insertions(+), 0 deletions(-)\n",
      " create mode 100644 Python-3.4.8rc1.tar\n",
      " 44M\t.git\n"
     ]
    }
   ],
   "source": [
    "Btar = B + \".tar\"\n",
    "!git add $Btar\n",
    "!git commit -m \"file B\"\n",
    "!du -hs .git"
   ]
  },
  {
   "cell_type": "code",
   "execution_count": 11,
   "metadata": {},
   "outputs": [
    {
     "name": "stdout",
     "output_type": "stream",
     "text": [
      "\u001b[33mcommit 590ec6cd5f10d8f973e40cb4a751fab4bbf505cf\u001b[m\u001b[33m (\u001b[m\u001b[1;36mHEAD -> \u001b[m\u001b[1;32mmaster\u001b[m\u001b[33m)\u001b[m\n",
      "Author: Hans Fangohr <hans.fangohr@xfel.eu>\n",
      "Date:   Tue Feb 13 15:18:50 2018 +0100\n",
      "\n",
      "    file B\n",
      "\n",
      " Python-3.4.8rc1.tar | Bin \u001b[31m0\u001b[m -> \u001b[32m75673600\u001b[m bytes\n",
      " 1 file changed, 0 insertions(+), 0 deletions(-)\n",
      "\n",
      "\u001b[33mcommit 72e5788150d6f896bc88c88c6b16023bb60dd0a2\u001b[m\n",
      "Author: Hans Fangohr <hans.fangohr@xfel.eu>\n",
      "Date:   Tue Feb 13 15:18:48 2018 +0100\n",
      "\n",
      "    file A\n",
      "\n",
      " Python-3.4.8.tar | Bin \u001b[31m0\u001b[m -> \u001b[32m75673600\u001b[m bytes\n",
      " 1 file changed, 0 insertions(+), 0 deletions(-)\n"
     ]
    }
   ],
   "source": [
    "!git log --stat"
   ]
  },
  {
   "cell_type": "markdown",
   "metadata": {},
   "source": [
    "Conclusion 2: Adding uncompressed files to git:\n",
    "\n",
    "- each file is compressed (although not efficiently as original gzip: 22MB instead of 19MB)\n",
    "- no apparenty benefit in exploiting similarity of the two files"
   ]
  },
  {
   "cell_type": "markdown",
   "metadata": {},
   "source": [
    "## What potential is there in similarity in A and B?"
   ]
  },
  {
   "cell_type": "code",
   "execution_count": 12,
   "metadata": {},
   "outputs": [
    {
     "name": "stdout",
     "output_type": "stream",
     "text": [
      "-rw-r--r--  1 fangohr  staff   144M 13 Feb 15:18 combined.tar\n",
      "-rw-r--r--  1 fangohr  staff    38M 13 Feb 15:18 combined.tar.gz\n"
     ]
    }
   ],
   "source": [
    "!rm -f combined.tar.gz\n",
    "!cat $Atar $Btar > combined.tar \n",
    "!ls -vlh combined.tar\n",
    "!gzip combined.tar\n",
    "!ls -vlh combined.tar.gz"
   ]
  },
  {
   "cell_type": "markdown",
   "metadata": {},
   "source": [
    "Conclusion 3: although we expect only few changes from Python3.4.8rc1 to 3.4.8, they don't compress well together."
   ]
  },
  {
   "cell_type": "markdown",
   "metadata": {},
   "source": [
    "## Does anything change if we replace file A in the repository with file B?"
   ]
  },
  {
   "cell_type": "code",
   "execution_count": 13,
   "metadata": {},
   "outputs": [
    {
     "name": "stdout",
     "output_type": "stream",
     "text": [
      "Initialized empty Git repository in /Users/fangohr/Desktop/targit/.git/\n",
      "[master (root-commit) 39a5592] file A\n",
      " 1 file changed, 0 insertions(+), 0 deletions(-)\n",
      " create mode 100644 Python-3.4.8.tar\n",
      " 22M\t.git\n"
     ]
    }
   ],
   "source": [
    "Atar = A + \".tar\"\n",
    "!rm -rf .git # clean start\n",
    "!git init .\n",
    "!git add $Atar\n",
    "!git commit -m \"file A\"\n",
    "!du -hs .git\n"
   ]
  },
  {
   "cell_type": "markdown",
   "metadata": {},
   "source": [
    "Now copy file B over A, and commit as a change:"
   ]
  },
  {
   "cell_type": "code",
   "execution_count": 14,
   "metadata": {},
   "outputs": [
    {
     "name": "stdout",
     "output_type": "stream",
     "text": [
      "Python-3.4.8rc1.tar -> Python-3.4.8.tar\n",
      "[master bf29ae3] changing A (by replacing it with B)\n",
      " 1 file changed, 0 insertions(+), 0 deletions(-)\n",
      " 44M\t.git\n"
     ]
    }
   ],
   "source": [
    "!cp -v $Btar $Atar\n",
    "!git add $Atar\n",
    "!git commit -m \"changing A (by replacing it with B)\"\n",
    "!du -hs .git"
   ]
  },
  {
   "cell_type": "code",
   "execution_count": 15,
   "metadata": {},
   "outputs": [
    {
     "name": "stdout",
     "output_type": "stream",
     "text": [
      "\u001b[33mcommit bf29ae3ba9b2430cd9cd4943571ac4882096db18\u001b[m\u001b[33m (\u001b[m\u001b[1;36mHEAD -> \u001b[m\u001b[1;32mmaster\u001b[m\u001b[33m)\u001b[m\n",
      "Author: Hans Fangohr <hans.fangohr@xfel.eu>\n",
      "Date:   Tue Feb 13 15:18:59 2018 +0100\n",
      "\n",
      "    changing A (by replacing it with B)\n",
      "\n",
      " Python-3.4.8.tar | Bin \u001b[31m75673600\u001b[m -> \u001b[32m75673600\u001b[m bytes\n",
      " 1 file changed, 0 insertions(+), 0 deletions(-)\n",
      "\n",
      "\u001b[33mcommit 39a5592990dd9f77d91d6f05b564aeb6c6d60c60\u001b[m\n",
      "Author: Hans Fangohr <hans.fangohr@xfel.eu>\n",
      "Date:   Tue Feb 13 15:18:57 2018 +0100\n",
      "\n",
      "    file A\n",
      "\n",
      " Python-3.4.8.tar | Bin \u001b[31m0\u001b[m -> \u001b[32m75673600\u001b[m bytes\n",
      " 1 file changed, 0 insertions(+), 0 deletions(-)\n"
     ]
    }
   ],
   "source": [
    "!git log --stat"
   ]
  },
  {
   "cell_type": "markdown",
   "metadata": {},
   "source": [
    "Conclusion 4: no difference to just adding the file."
   ]
  },
  {
   "cell_type": "markdown",
   "metadata": {},
   "source": [
    "# Conclusion\n",
    "\n",
    "Adding the two gzipped tar files to a git repository results in a repository size (i.e. size of ``.git`` of 38MB). Adding the files as tar files, results in a repository size of 44MB.\n",
    "\n",
    "So based on this, just adding the zipped file is slightly more space efficient (~15%).\n",
    "\n"
   ]
  }
 ],
 "metadata": {
  "kernelspec": {
   "display_name": "Python 3",
   "language": "python",
   "name": "python3"
  },
  "language_info": {
   "codemirror_mode": {
    "name": "ipython",
    "version": 3
   },
   "file_extension": ".py",
   "mimetype": "text/x-python",
   "name": "python",
   "nbconvert_exporter": "python",
   "pygments_lexer": "ipython3",
   "version": "3.6.1"
  }
 },
 "nbformat": 4,
 "nbformat_minor": 2
}
